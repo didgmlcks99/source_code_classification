{
 "cells": [
  {
   "cell_type": "code",
   "execution_count": 1,
   "metadata": {},
   "outputs": [],
   "source": [
    "import os\n",
    "import pandas as pd\n",
    "import numpy as np"
   ]
  },
  {
   "cell_type": "code",
   "execution_count": 2,
   "metadata": {},
   "outputs": [],
   "source": [
    "def record_data_info(class_nm, txt_cnt):\n",
    "    with open('../data/info.txt', 'a') as f:\n",
    "        f.write(class_nm + ': ' + str(txt_cnt) + '\\n')"
   ]
  },
  {
   "cell_type": "code",
   "execution_count": 3,
   "metadata": {},
   "outputs": [],
   "source": [
    "def get_df():\n",
    "    data_path = '../data/code25/'\n",
    "    class_dir_list = [os.listdir(data_path)]\n",
    "\n",
    "    # count = 0\n",
    "    \n",
    "    data_list = []\n",
    "    class_list = []\n",
    "\n",
    "    max_bytes, min_bytes = -1, 999999\n",
    "    size_dict = {}\n",
    "\n",
    "    for class_nm in os.listdir(data_path):\n",
    "        \n",
    "        class_txt_cnt = 0\n",
    "        class_flag = 0\n",
    "\n",
    "        if class_nm == '.DS_Store': continue\n",
    "\n",
    "        while class_flag != 1:\n",
    "            for txt_file in os.listdir(data_path + class_nm):\n",
    "                \n",
    "                if txt_file.endswith('.txt'):\n",
    "                    file_path = data_path + class_nm + '/' + txt_file\n",
    "\n",
    "                    # file_size = os.path.getsize(file_path)\n",
    "\n",
    "                    # if not file_size in size_dict:\n",
    "                    #     size_dict[file_size] = 1\n",
    "                    # else:\n",
    "                    #     size_dict[file_size] += 1\n",
    "\n",
    "                    # if file_size > max_bytes: max_bytes = file_size\n",
    "                    # if file_size < min_bytes: min_bytes = file_size\n",
    "                \n",
    "                    with open(file_path, 'r') as file:\n",
    "                        class_label = class_nm\n",
    "\n",
    "                        strings = file.readlines()\n",
    "                        data = ' '.join(strings)\n",
    "\n",
    "                        char_cnt = 0\n",
    "                        data_124 = ''\n",
    "                        for chars in data:\n",
    "                            if char_cnt != 124:\n",
    "                                char_cnt += 1\n",
    "                                data_124 += chars\n",
    "                            elif char_cnt == 124:\n",
    "                                char_cnt = 0\n",
    "                                class_txt_cnt += 1\n",
    "                                data_list.append(data_124)\n",
    "                                class_list.append(class_label)\n",
    "\n",
    "                                if not len(data_124) in size_dict:\n",
    "                                    size_dict[len(data_124)] = 1\n",
    "                                else:\n",
    "                                    size_dict[len(data_124)] += 1\n",
    "                                \n",
    "                                data_124 = ''\n",
    "\n",
    "                            if class_txt_cnt == 10000:\n",
    "                                class_flag = 1\n",
    "                                break\n",
    "                \n",
    "                if class_flag == 1:\n",
    "                    break\n",
    "\n",
    "                    # count += 1\n",
    "                \n",
    "                # if count == 10: break\n",
    "                \n",
    "\n",
    "        record_data_info(class_nm, class_txt_cnt)\n",
    "        # break\n",
    "    \n",
    "    data = {'sourceCode': data_list, 'classLabel': class_list}\n",
    "    df = pd.DataFrame(data)\n",
    "\n",
    "    return df, [max_bytes, min_bytes], size_dict"
   ]
  },
  {
   "cell_type": "code",
   "execution_count": 4,
   "metadata": {},
   "outputs": [],
   "source": [
    "df, size_info, size_dict = get_df()"
   ]
  },
  {
   "cell_type": "code",
   "execution_count": 5,
   "metadata": {},
   "outputs": [
    {
     "name": "stdout",
     "output_type": "stream",
     "text": [
      "max bytes:  -1\n",
      "max KB: -0.0009765625\n",
      "\n",
      "min bytes:  999999\n",
      "min KB: 976.5615234375\n"
     ]
    }
   ],
   "source": [
    "print('max bytes: ', size_info[0])\n",
    "print('max KB:', size_info[0]/1024)\n",
    "\n",
    "print()\n",
    "\n",
    "print('min bytes: ', size_info[1])\n",
    "print('min KB:', size_info[1]/1024)"
   ]
  },
  {
   "cell_type": "code",
   "execution_count": 6,
   "metadata": {},
   "outputs": [
    {
     "data": {
      "image/png": "[encoded data removed]",
      "text/plain": [
       "<Figure size 720x360 with 1 Axes>"
      ]
     },
     "metadata": {
      "needs_background": "light"
     },
     "output_type": "display_data"
    }
   ],
   "source": [
    "from turtle import position\n",
    "import matplotlib.pyplot as plt\n",
    "\n",
    "sizes = list(size_dict.keys())\n",
    "counts = list(size_dict.values())\n",
    "\n",
    "fig = plt.figure(figsize = (10, 5))\n",
    "\n",
    "plt.bar(sizes, counts)\n",
    "\n",
    "plt.xlabel('sizes in Bytes')\n",
    "plt.ylabel('# count of size')\n",
    "plt.show()"
   ]
  },
  {
   "cell_type": "code",
   "execution_count": 7,
   "metadata": {},
   "outputs": [
    {
     "ename": "KeyError",
     "evalue": "39224",
     "output_type": "error",
     "traceback": [
      "\u001b[0;31m---------------------------------------------------------------------------\u001b[0m",
      "\u001b[0;31mKeyError\u001b[0m                                  Traceback (most recent call last)",
      "\u001b[1;32m/Users/yangheechan/Documents/source_code_classification/src/main.ipynb Cell 7\u001b[0m in \u001b[0;36m<module>\u001b[0;34m\u001b[0m\n\u001b[0;32m----> <a href='vscode-notebook-cell:/Users/yangheechan/Documents/source_code_classification/src/main.ipynb#ch0000006?line=0'>1</a>\u001b[0m size_dict[\u001b[39m39224\u001b[39;49m]\n",
      "\u001b[0;31mKeyError\u001b[0m: 39224"
     ]
    }
   ],
   "source": [
    "size_dict[39224]"
   ]
  },
  {
   "cell_type": "code",
   "execution_count": null,
   "metadata": {},
   "outputs": [],
   "source": [
    "sourceCode_np = df.sourceCode.values\n",
    "codeClass_np = df.classLabel.values"
   ]
  },
  {
   "cell_type": "code",
   "execution_count": null,
   "metadata": {},
   "outputs": [],
   "source": [
    "from nltk.tokenize import word_tokenize\n",
    "from collections import defaultdict\n",
    "\n",
    "def split(str):\n",
    "    return [char for char in str]\n",
    "\n",
    "def tokenize(sourceCode):\n",
    "    \"\"\"Tokenize texts, build vocabulary and find maximum sentence length.\n",
    "    \n",
    "    Args:\n",
    "        texts (List[str]): List of text data\n",
    "    \n",
    "    Returns:\n",
    "        tokenized_texts (List[List[str]]): List of list of tokens\n",
    "        word2idx (Dict): Vocabulary built from the corpus\n",
    "        max_len (int): Maximum sentence length\n",
    "    \"\"\"\n",
    "\n",
    "    max_len = 0\n",
    "    tokenized_codes = []\n",
    "    ch2idx = {}\n",
    "\n",
    "    # Add <pad> and <unk> tokens to the vocabulary\n",
    "    ch2idx['<pad>'] = 0\n",
    "\n",
    "    # Building our vocab from the corpus starting from index 2\n",
    "    idx = 1\n",
    "    for code in sourceCode:\n",
    "        tokenized_code = split(code)\n",
    "\n",
    "        # Add `tokenized_sent` to `tokenized_texts`\n",
    "        tokenized_codes.append(tokenized_code)\n",
    "\n",
    "        # Add new token to `word2idx`\n",
    "        for token in tokenized_code:\n",
    "            if token not in ch2idx:\n",
    "                ch2idx[token] = idx\n",
    "                idx += 1\n",
    "\n",
    "        # Update `max_len`\n",
    "        max_len = max(max_len, len(tokenized_code))\n",
    "\n",
    "    return tokenized_codes, ch2idx, max_len\n",
    "\n",
    "def encode(tokenized_codes, ch2idx, max_len):\n",
    "    \"\"\"Pad each sentence to the maximum sentence length and encode tokens to\n",
    "    their index in the vocabulary.\n",
    "\n",
    "    Returns:\n",
    "        input_ids (np.array): Array of token indexes in the vocabulary with\n",
    "            shape (N, max_len). It will the input of our CNN model.\n",
    "    \"\"\"\n",
    "\n",
    "    input_ids = []\n",
    "    for tokenized_code in tokenized_codes:\n",
    "        # Pad sentences to max_len\n",
    "        tokenized_code += ['<pad>'] * (max_len - len(tokenized_code))\n",
    "\n",
    "        # Encode tokens to input_ids\n",
    "        input_id = [ch2idx.get(token) for token in tokenized_code]\n",
    "        input_ids.append(input_id)\n",
    "    \n",
    "    return np.array(input_ids)"
   ]
  },
  {
   "cell_type": "code",
   "execution_count": null,
   "metadata": {},
   "outputs": [],
   "source": [
    "# # Tokenize, build vocabulary, encode tokens\n",
    "# print(\"Tokenizing...\\n\")\n",
    "# tokenized_sourceCodes, ch2idx, max_len = tokenize(sourceCode_np)\n",
    "# input_ids = encode(tokenized_sourceCodes, ch2idx, max_len)"
   ]
  },
  {
   "cell_type": "code",
   "execution_count": null,
   "metadata": {},
   "outputs": [],
   "source": []
  }
 ],
 "metadata": {
  "kernelspec": {
   "display_name": "Python 3.9.9 64-bit",
   "language": "python",
   "name": "python3"
  },
  "language_info": {
   "codemirror_mode": {
    "name": "ipython",
    "version": 3
   },
   "file_extension": ".py",
   "mimetype": "text/x-python",
   "name": "python",
   "nbconvert_exporter": "python",
   "pygments_lexer": "ipython3",
   "version": "3.9.9"
  },
  "orig_nbformat": 4,
  "vscode": {
   "interpreter": {
    "hash": "397704579725e15f5c7cb49fe5f0341eb7531c82d19f2c29d197e8b64ab5776b"
   }
  }
 },
 "nbformat": 4,
 "nbformat_minor": 2
}
