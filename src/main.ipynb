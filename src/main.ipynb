{
 "cells": [
  {
   "cell_type": "code",
   "execution_count": 1,
   "metadata": {},
   "outputs": [],
   "source": [
    "import torch\n",
    "\n",
    "import data\n",
    "import utils\n",
    "import info_recorder as ir\n",
    "import data_loader as dl\n",
    "import initializer as init\n",
    "import trainer as tn"
   ]
  },
  {
   "cell_type": "code",
   "execution_count": 2,
   "metadata": {},
   "outputs": [],
   "source": [
    "# https://chriskhanhtran.github.io/posts/cnn-sentence-classification/"
   ]
  },
  {
   "cell_type": "code",
   "execution_count": 3,
   "metadata": {},
   "outputs": [
    {
     "name": "stdout",
     "output_type": "stream",
     "text": [
      "There are 1 GPU(s) available.\n",
      "Device name: NVIDIA GeForce GTX 1070\n"
     ]
    }
   ],
   "source": [
    "if torch.cuda.is_available():       \n",
    "    device = torch.device(\"cuda\")\n",
    "    print(f'There are {torch.cuda.device_count()} GPU(s) available.')\n",
    "    print('Device name:', torch.cuda.get_device_name(0))\n",
    "\n",
    "else:\n",
    "    print('No GPU available, using the CPU instead.')\n",
    "    device = torch.device(\"cpu\")\n"
   ]
  },
  {
   "cell_type": "code",
   "execution_count": 8,
   "metadata": {},
   "outputs": [],
   "source": [
    "df, size_info, size_dict = data.get_df()"
   ]
  },
  {
   "cell_type": "code",
   "execution_count": 9,
   "metadata": {},
   "outputs": [],
   "source": [
    "sourceCode_np = df.sourceCode.values\n",
    "codeClass_np = df.classLabel.values"
   ]
  },
  {
   "cell_type": "code",
   "execution_count": 11,
   "metadata": {},
   "outputs": [
    {
     "name": "stdout",
     "output_type": "stream",
     "text": [
      "Tokenizing...\n",
      "\n"
     ]
    }
   ],
   "source": [
    "# Tokenize, build vocabulary, encode tokens\n",
    "print(\"Tokenizing...\\n\")\n",
    "tokenized_sourceCodes, ch2idx, max_len = utils.tokenize(sourceCode_np)\n",
    "input_ids = utils.encode(tokenized_sourceCodes, ch2idx, max_len)"
   ]
  },
  {
   "cell_type": "code",
   "execution_count": 13,
   "metadata": {},
   "outputs": [],
   "source": [
    "ir.record_ch2idx(ch2idx)"
   ]
  },
  {
   "cell_type": "code",
   "execution_count": 15,
   "metadata": {},
   "outputs": [],
   "source": [
    "encoded_class2idx, class2idx, num_classes = utils.tokenize_encode_class(codeClass_np)"
   ]
  },
  {
   "cell_type": "code",
   "execution_count": 16,
   "metadata": {},
   "outputs": [],
   "source": [
    "from sklearn.model_selection import train_test_split\n",
    "\n",
    "train_inputs, val_inputs, train_labels, val_labels = train_test_split(\n",
    "    input_ids, encoded_class2idx, test_size = 0.2, random_state = 43\n",
    ")"
   ]
  },
  {
   "cell_type": "code",
   "execution_count": 18,
   "metadata": {},
   "outputs": [],
   "source": [
    "# Load data to PyTorch DataLoader\n",
    "train_dataloader, val_dataloader = dl.data_loader(train_inputs, val_inputs, train_labels, val_labels, batch_size=50)"
   ]
  },
  {
   "cell_type": "code",
   "execution_count": 21,
   "metadata": {},
   "outputs": [],
   "source": [
    "# PyTorch TensorBoard support\n",
    "from torch.utils.tensorboard import SummaryWriter\n",
    "from datetime import datetime\n",
    "\n",
    "timestamp = datetime.now().strftime('%Y%m%d_%H%M%S')\n",
    "writer = SummaryWriter('betterCNN/sourceCodeCNN{}'.format(timestamp))"
   ]
  },
  {
   "cell_type": "code",
   "execution_count": 23,
   "metadata": {},
   "outputs": [
    {
     "name": "stdout",
     "output_type": "stream",
     "text": [
      "Start training...\n",
      "\n",
      " Epoch  |  Train Loss  |  Val Loss  |  Val Acc  |  Elapsed \n",
      "------------------------------------------------------------\n",
      "   1    |   2.127972   |  1.456987  |   59.99   |   11.04  \n",
      "   2    |   1.583577   |  1.238361  |   65.91   |   10.19  \n",
      "   3    |   1.463917   |  1.153546  |   67.99   |   10.19  \n",
      "   4    |   1.410556   |  1.110863  |   68.90   |   10.22  \n",
      "   5    |   1.371479   |  1.079923  |   69.81   |   10.30  \n",
      "   6    |   1.348754   |  1.062568  |   69.97   |   10.27  \n",
      "   7    |   1.329906   |  1.048667  |   70.62   |   10.29  \n",
      "   8    |   1.317575   |  1.030562  |   70.93   |   10.21  \n",
      "   9    |   1.306439   |  1.031103  |   70.97   |   10.19  \n",
      "  10    |   1.300152   |  1.022082  |   71.22   |   10.28  \n",
      "  11    |   1.292616   |  1.009193  |   71.45   |   10.26  \n",
      "  12    |   1.288032   |  1.005755  |   71.63   |   10.19  \n",
      "  13    |   1.283285   |  0.999962  |   71.66   |   10.18  \n",
      "  14    |   1.276215   |  0.997508  |   71.82   |   10.21  \n",
      "  15    |   1.271875   |  0.995301  |   72.07   |   10.16  \n",
      "  16    |   1.263684   |  0.994856  |   71.90   |   10.22  \n",
      "  17    |   1.262980   |  0.994689  |   71.86   |   10.22  \n",
      "  18    |   1.263317   |  0.983108  |   72.26   |   10.19  \n",
      "  19    |   1.261146   |  0.984236  |   72.08   |   10.19  \n",
      "  20    |   1.256670   |  0.977387  |   72.43   |   10.19  \n",
      "\n",
      "\n",
      "Training complete! Best accuracy: 72.43%.\n"
     ]
    }
   ],
   "source": [
    "# CNN-rand: Word vectors are randomly initialized.\n",
    "tn.set_seed(42)\n",
    "cnn_rand, optimizer = init.initilize_model(device=device,\n",
    "                                        vocab_size=len(ch2idx),\n",
    "                                        embed_dim=20,\n",
    "                                        filter_sizes=[8],\n",
    "                                        num_filters=[100],\n",
    "                                        learning_rate=0.25,\n",
    "                                        num_classes=len(class2idx),\n",
    "                                        dropout=0.5)\n",
    "tn.train(device, cnn_rand, optimizer, train_dataloader, '4Layer', writer, val_dataloader, epochs=20)"
   ]
  },
  {
   "cell_type": "code",
   "execution_count": 24,
   "metadata": {},
   "outputs": [
    {
     "name": "stdout",
     "output_type": "stream",
     "text": [
      "Start training...\n",
      "\n",
      " Epoch  |  Train Loss  |  Val Loss  |  Val Acc  |  Elapsed \n",
      "------------------------------------------------------------\n",
      "   1    |   1.771193   |  1.141484  |   68.77   |   28.82  \n",
      "   2    |   1.144154   |  0.934006  |   73.76   |   28.99  \n",
      "   3    |   0.975043   |  0.850122  |   76.05   |   29.38  \n",
      "   4    |   0.877829   |  0.806139  |   77.16   |   29.25  \n",
      "   5    |   0.808553   |  0.777856  |   78.03   |   29.13  \n",
      "   6    |   0.757765   |  0.762757  |   78.46   |   29.03  \n",
      "   7    |   0.716770   |  0.758471  |   78.73   |   28.87  \n",
      "   8    |   0.684832   |  0.752787  |   78.82   |   28.74  \n",
      "   9    |   0.653707   |  0.748775  |   79.01   |   28.99  \n",
      "  10    |   0.631112   |  0.747849  |   79.20   |   28.92  \n",
      "  11    |   0.609794   |  0.752750  |   79.28   |   29.57  \n",
      "  12    |   0.590289   |  0.762333  |   79.53   |   28.57  \n",
      "  13    |   0.573721   |  0.756216  |   79.41   |   28.36  \n",
      "  14    |   0.561561   |  0.772601  |   79.59   |   28.51  \n",
      "  15    |   0.549910   |  0.770842  |   79.49   |   28.48  \n",
      "  16    |   0.540021   |  0.779969  |   79.68   |   28.35  \n",
      "  17    |   0.530865   |  0.791136  |   79.54   |   28.62  \n",
      "  18    |   0.517967   |  0.781466  |   79.38   |   28.36  \n",
      "  19    |   0.508878   |  0.792812  |   79.70   |   28.31  \n",
      "  20    |   0.503962   |  0.784995  |   79.78   |   28.56  \n",
      "\n",
      "\n",
      "Training complete! Best accuracy: 79.78%.\n"
     ]
    }
   ],
   "source": [
    "# CNN-rand: Word vectors are randomly initialized.\n",
    "tn.set_seed(42)\n",
    "cnn_rand, optimizer = init.initilize_model(device=device,\n",
    "                                        vocab_size=len(ch2idx),\n",
    "                                        embed_dim=20,\n",
    "                                        filter_sizes=[8, 16, 32, 64],\n",
    "                                        num_filters=[100, 200, 200, 100],\n",
    "                                        learning_rate=0.25,\n",
    "                                        num_classes=len(class2idx),\n",
    "                                        dropout=0.5)\n",
    "tn.train(device, cnn_rand, optimizer, train_dataloader, '4Layer', writer, val_dataloader, epochs=20)"
   ]
  }
 ],
 "metadata": {
  "kernelspec": {
   "display_name": "Python 3.9.12 ('base')",
   "language": "python",
   "name": "python3"
  },
  "language_info": {
   "codemirror_mode": {
    "name": "ipython",
    "version": 3
   },
   "file_extension": ".py",
   "mimetype": "text/x-python",
   "name": "python",
   "nbconvert_exporter": "python",
   "pygments_lexer": "ipython3",
   "version": "3.9.12"
  },
  "orig_nbformat": 4,
  "vscode": {
   "interpreter": {
    "hash": "348b9cd948ce87438be2e622031b2ecfa29bc2d3ecc0fd03127b9a24b30227df"
   }
  }
 },
 "nbformat": 4,
 "nbformat_minor": 2
}
