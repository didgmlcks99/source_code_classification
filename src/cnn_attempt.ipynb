{
 "cells": [
  {
   "cell_type": "code",
   "execution_count": 1,
   "metadata": {},
   "outputs": [],
   "source": [
    "import torch\n",
    "\n",
    "import data\n",
    "import utils\n",
    "import info_recorder as ir\n",
    "import data_loader as dl\n",
    "import initializer as init\n",
    "import trainer as tn"
   ]
  },
  {
   "cell_type": "code",
   "execution_count": 2,
   "metadata": {},
   "outputs": [],
   "source": [
    "# https://chriskhanhtran.github.io/posts/cnn-sentence-classification/"
   ]
  },
  {
   "cell_type": "code",
   "execution_count": 3,
   "metadata": {},
   "outputs": [
    {
     "name": "stdout",
     "output_type": "stream",
     "text": [
      "There are 1 GPU(s) available.\n",
      "Device name: NVIDIA GeForce GTX 1070\n"
     ]
    }
   ],
   "source": [
    "if torch.cuda.is_available():       \n",
    "    device = torch.device(\"cuda\")\n",
    "    print(f'There are {torch.cuda.device_count()} GPU(s) available.')\n",
    "    print('Device name:', torch.cuda.get_device_name(0))\n",
    "\n",
    "else:\n",
    "    print('No GPU available, using the CPU instead.')\n",
    "    device = torch.device(\"cpu\")\n"
   ]
  },
  {
   "cell_type": "code",
   "execution_count": 4,
   "metadata": {},
   "outputs": [],
   "source": [
    "df, size_info, size_dict = data.get_df()"
   ]
  },
  {
   "cell_type": "code",
   "execution_count": 5,
   "metadata": {},
   "outputs": [],
   "source": [
    "sourceCode_np = df.sourceCode.values\n",
    "codeClass_np = df.classLabel.values"
   ]
  },
  {
   "cell_type": "code",
   "execution_count": 6,
   "metadata": {},
   "outputs": [
    {
     "name": "stdout",
     "output_type": "stream",
     "text": [
      "Tokenizing...\n",
      "\n"
     ]
    }
   ],
   "source": [
    "# Tokenize, build vocabulary, encode tokens\n",
    "print(\"Tokenizing...\\n\")\n",
    "tokenized_sourceCodes, ch2idx, max_len = utils.tokenize(sourceCode_np)\n",
    "input_ids = utils.encode(tokenized_sourceCodes, ch2idx, max_len)"
   ]
  },
  {
   "cell_type": "code",
   "execution_count": 7,
   "metadata": {},
   "outputs": [],
   "source": [
    "ir.record_ch2idx(ch2idx)"
   ]
  },
  {
   "cell_type": "code",
   "execution_count": 8,
   "metadata": {},
   "outputs": [],
   "source": [
    "encoded_class2idx, class2idx, num_classes = utils.tokenize_encode_class(codeClass_np)"
   ]
  },
  {
   "cell_type": "code",
   "execution_count": 9,
   "metadata": {},
   "outputs": [],
   "source": [
    "from sklearn.model_selection import train_test_split\n",
    "\n",
    "train_inputs, val_inputs, train_labels, val_labels = train_test_split(\n",
    "    input_ids, encoded_class2idx, test_size = 0.2, random_state = 43\n",
    ")"
   ]
  },
  {
   "cell_type": "code",
   "execution_count": 10,
   "metadata": {},
   "outputs": [],
   "source": [
    "# Load data to PyTorch DataLoader\n",
    "train_dataloader, val_dataloader = dl.data_loader(train_inputs, val_inputs, train_labels, val_labels, batch_size=50)"
   ]
  },
  {
   "cell_type": "code",
   "execution_count": 11,
   "metadata": {},
   "outputs": [],
   "source": [
    "# PyTorch TensorBoard support\n",
    "from torch.utils.tensorboard import SummaryWriter\n",
    "from datetime import datetime\n",
    "\n",
    "timestamp = datetime.now().strftime('%Y%m%d_%H%M%S')\n",
    "writer = SummaryWriter('dirKS/cnn')"
   ]
  },
  {
   "cell_type": "code",
   "execution_count": 12,
   "metadata": {},
   "outputs": [],
   "source": [
    "# # CNN-rand: Word vectors are randomly initialized.\n",
    "# tn.set_seed(42)\n",
    "# cnn_rand, optimizer = init.initilize_model(device=device,\n",
    "#                                         vocab_size=len(ch2idx),\n",
    "#                                         embed_dim=100,\n",
    "#                                         filter_sizes=[64, 32, 16, 8],\n",
    "#                                         num_filters=[100, 200, 200, 100],\n",
    "#                                         num_classes=len(class2idx),\n",
    "#                                         dropout=0.5,\n",
    "#                                         learning_rate=0.25,\n",
    "#                                         optimizerName=\"Adadelta\",\n",
    "#                                         modelType=\"CNN\")\n",
    "                                        \n",
    "# tn.train(device, cnn_rand, optimizer, train_dataloader, '01_4Layer_lessKS', writer, val_dataloader, epochs=20)"
   ]
  },
  {
   "cell_type": "code",
   "execution_count": 13,
   "metadata": {},
   "outputs": [],
   "source": [
    "# # CNN-rand: Word vectors are randomly initialized.\n",
    "# tn.set_seed(42)\n",
    "# cnn_rand, optimizer = init.initilize_model(device=device,\n",
    "#                                         vocab_size=len(ch2idx),\n",
    "#                                         embed_dim=100,\n",
    "#                                         filter_sizes=[8, 16, 32, 64],\n",
    "#                                         num_filters=[100, 200, 200, 100],\n",
    "#                                         num_classes=len(class2idx),\n",
    "#                                         dropout=0.5,\n",
    "#                                         learning_rate=0.25,\n",
    "#                                         optimizerName=\"Adadelta\",\n",
    "#                                         modelType=\"CNN\")\n",
    "                                        \n",
    "# tn.train(device, cnn_rand, optimizer, train_dataloader, '02_4Layer_moreKS', writer, val_dataloader, epochs=20)"
   ]
  },
  {
   "cell_type": "code",
   "execution_count": 14,
   "metadata": {},
   "outputs": [],
   "source": [
    "# # CNN-rand: Word vectors are randomly initialized.\n",
    "# tn.set_seed(42)\n",
    "# cnn_rand, optimizer = init.initilize_model(device=device,\n",
    "#                                         vocab_size=len(ch2idx),\n",
    "#                                         embed_dim=100,\n",
    "#                                         filter_sizes=[32, 16, 8],\n",
    "#                                         num_filters=[100, 200, 100],\n",
    "#                                         num_classes=len(class2idx),\n",
    "#                                         dropout=0.5,\n",
    "#                                         learning_rate=0.25,\n",
    "#                                         optimizerName=\"Adadelta\",\n",
    "#                                         modelType=\"CNN\")\n",
    "                                        \n",
    "# tn.train(device, cnn_rand, optimizer, train_dataloader, '03_3Layer_lessKS', writer, val_dataloader, epochs=20)"
   ]
  },
  {
   "cell_type": "code",
   "execution_count": 15,
   "metadata": {},
   "outputs": [
    {
     "name": "stdout",
     "output_type": "stream",
     "text": [
      "Start training...\n",
      "\n",
      " Epoch  |  Train Loss  |  Val Loss  |  Val Acc  |  Elapsed \n",
      "------------------------------------------------------------\n",
      "   1    |   1.653917   |  1.076117  |   69.87   |   43.18  \n",
      "   2    |   1.050978   |  0.856041  |   75.85   |   42.49  \n",
      "   3    |   0.880146   |  0.770578  |   78.00   |   42.27  \n",
      "   4    |   0.780376   |  0.727186  |   79.35   |   42.30  \n",
      "   5    |   0.708870   |  0.699039  |   80.15   |   43.00  \n",
      "   6    |   0.658159   |  0.682416  |   80.57   |   42.76  \n",
      "   7    |   0.613191   |  0.668153  |   81.21   |   40.62  \n",
      "   8    |   0.572898   |  0.658098  |   81.42   |   42.56  \n",
      "   9    |   0.544534   |  0.649805  |   81.75   |   42.90  \n",
      "  10    |   0.517814   |  0.653204  |   82.08   |   43.57  \n",
      "  11    |   0.497013   |  0.646188  |   82.29   |   43.03  \n",
      "  12    |   0.474245   |  0.649149  |   82.29   |   42.90  \n",
      "  13    |   0.462767   |  0.650199  |   82.61   |   42.87  \n",
      "  14    |   0.443475   |  0.683116  |   82.42   |   42.29  \n",
      "  15    |   0.433253   |  0.661385  |   82.67   |   42.71  \n",
      "  16    |   0.418883   |  0.668686  |   82.69   |   43.05  \n",
      "  17    |   0.405966   |  0.656962  |   83.03   |   43.31  \n",
      "  18    |   0.400141   |  0.676594  |   82.85   |   42.90  \n",
      "  19    |   0.389041   |  0.683546  |   83.09   |   42.28  \n",
      "  20    |   0.386204   |  0.677453  |   82.85   |   42.74  \n",
      "\n",
      "\n",
      "Training complete! Best accuracy: 83.09%.\n"
     ]
    }
   ],
   "source": [
    "# CNN-rand: Word vectors are randomly initialized.\n",
    "tn.set_seed(42)\n",
    "cnn_rand, optimizer = init.initilize_model(device=device,\n",
    "                                        vocab_size=len(ch2idx),\n",
    "                                        embed_dim=100,\n",
    "                                        filter_sizes=[8, 16, 32],\n",
    "                                        num_filters=[100, 200, 100],\n",
    "                                        num_classes=len(class2idx),\n",
    "                                        dropout=0.5,\n",
    "                                        learning_rate=0.25,\n",
    "                                        optimizerName=\"Adadelta\",\n",
    "                                        modelType=\"CNN\")\n",
    "                                        \n",
    "tn.train(device, cnn_rand, optimizer, train_dataloader, '04_3Layer_moreKS', writer, val_dataloader, epochs=20)"
   ]
  }
 ],
 "metadata": {
  "kernelspec": {
   "display_name": "Python 3.9.12 ('base')",
   "language": "python",
   "name": "python3"
  },
  "language_info": {
   "codemirror_mode": {
    "name": "ipython",
    "version": 3
   },
   "file_extension": ".py",
   "mimetype": "text/x-python",
   "name": "python",
   "nbconvert_exporter": "python",
   "pygments_lexer": "ipython3",
   "version": "3.9.12"
  },
  "orig_nbformat": 4,
  "vscode": {
   "interpreter": {
    "hash": "348b9cd948ce87438be2e622031b2ecfa29bc2d3ecc0fd03127b9a24b30227df"
   }
  }
 },
 "nbformat": 4,
 "nbformat_minor": 2
}
